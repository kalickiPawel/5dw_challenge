{
 "cells": [
  {
   "cell_type": "code",
   "execution_count": 1,
   "metadata": {},
   "outputs": [],
   "source": [
    "from flask import Flask\n",
    "import eventlet.wsgi\n",
    "import eventlet\n",
    "import socketio\n",
    "import base64"
   ]
  },
  {
   "cell_type": "code",
   "execution_count": 2,
   "metadata": {},
   "outputs": [],
   "source": [
    "sio = socketio.Server()\n",
    "app = Flask(__name__)\n",
    "\n",
    "def send_control(steering_angle, throttle):\n",
    "    sio.emit(\"steer\", data={'steering_angle': str(steering_angle),\n",
    "                            'throttle': str(throttle) }, skip_sid=True)"
   ]
  },
  {
   "cell_type": "code",
   "execution_count": null,
   "metadata": {},
   "outputs": [],
   "source": [
    "@sio.on('telemetry')\n",
    "def telemetry(sid, data):\n",
    "    if data:\n",
    "        speed = float(data[\"speed\"])\n",
    "        image_str = data[\"image\"]\n",
    "\n",
    "        decoded = base64.b64decode(image_str)\n",
    "        print(decoded)\n",
    "        \n",
    "        steering_angle = 0.0\n",
    "        throttle = -1.0\n",
    "\n",
    "        send_control(steering_angle, throttle)\n",
    "    else:\n",
    "        sio.emit('manual', data={}, skip_sid=True)\n",
    " \n",
    "\n",
    "app = socketio.Middleware(sio, app)\n",
    "eventlet.wsgi.server(eventlet.listen(('', 4567)), app)"
   ]
  },
  {
   "cell_type": "code",
   "execution_count": null,
   "metadata": {},
   "outputs": [],
   "source": []
  },
  {
   "cell_type": "code",
   "execution_count": null,
   "metadata": {},
   "outputs": [],
   "source": []
  }
 ],
 "metadata": {
  "kernelspec": {
   "display_name": "Python 3",
   "language": "python",
   "name": "python3"
  },
  "language_info": {
   "codemirror_mode": {
    "name": "ipython",
    "version": 3
   },
   "file_extension": ".py",
   "mimetype": "text/x-python",
   "name": "python",
   "nbconvert_exporter": "python",
   "pygments_lexer": "ipython3",
   "version": "3.7.1"
  }
 },
 "nbformat": 4,
 "nbformat_minor": 2
}
